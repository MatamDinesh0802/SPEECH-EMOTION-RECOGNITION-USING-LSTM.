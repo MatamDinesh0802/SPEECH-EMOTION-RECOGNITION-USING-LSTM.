{
 "cells": [
  {
   "cell_type": "markdown",
   "id": "tamil-header",
   "metadata": {
    "papermill": {
     "duration": 0.01644,
     "end_time": "2021-08-11T07:20:09.216841",
     "exception": false,
     "start_time": "2021-08-11T07:20:09.200401",
     "status": "completed"
    },
    "tags": []
   },
   "source": [
    "# Importing Libraries"
   ]
  },
  {
   "cell_type": "code",
   "execution_count": null,
   "id": "signed-darkness",
   "metadata": {
    "execution": {
     "iopub.execute_input": "2021-08-11T07:20:09.259814Z",
     "iopub.status.busy": "2021-08-11T07:20:09.259270Z",
     "iopub.status.idle": "2021-08-11T07:20:16.090758Z",
     "shell.execute_reply": "2021-08-11T07:20:16.090153Z",
     "shell.execute_reply.started": "2021-06-21T09:09:34.937775Z"
    },
    "papermill": {
     "duration": 6.858444,
     "end_time": "2021-08-11T07:20:16.090899",
     "exception": false,
     "start_time": "2021-08-11T07:20:09.232455",
     "status": "completed"
    },
    "tags": []
   },
   "outputs": [],
   "source": [
    "import pandas as pd\n",
    "import numpy as np\n",
    "\n",
    "import os\n",
    "import sys\n",
    "\n",
    "import librosa\n",
    "import librosa.display\n",
    "import seaborn as sns\n",
    "import matplotlib.pyplot as plt\n",
    "\n",
    "from sklearn.preprocessing import StandardScaler, OneHotEncoder\n",
    "from sklearn.metrics import confusion_matrix, classification_report\n",
    "from sklearn.model_selection import train_test_split\n",
    "\n",
    "from IPython.display import Audio\n",
    "\n",
    "import tensorflow as tf\n",
    "from tensorflow.keras.callbacks import ReduceLROnPlateau\n",
    "from tensorflow.keras.models import Sequential\n",
    "from tensorflow.keras.layers import Dense, LSTM, Flatten, Dropout, BatchNormalization\n",
    "from tensorflow.keras.callbacks import ModelCheckpoint\n",
    "\n",
    "import warnings\n",
    "if not sys.warnoptions:\n",
    "    warnings.simplefilter(\"ignore\")\n",
    "warnings.filterwarnings(\"ignore\", category=DeprecationWarning) "
   ]
  },
  {
   "cell_type": "markdown",
   "id": "devoted-property",
   "metadata": {
    "papermill": {
     "duration": 0.015176,
     "end_time": "2021-08-11T07:20:16.122259",
     "exception": false,
     "start_time": "2021-08-11T07:20:16.107083",
     "status": "completed"
    },
    "tags": []
   },
   "source": [
    "# Dataset"
   ]
  },
  {
   "cell_type": "code",
   "execution_count": 8,
   "id": "documentary-nowhere",
   "metadata": {
    "execution": {
     "iopub.execute_input": "2021-08-11T07:20:16.157172Z",
     "iopub.status.busy": "2021-08-11T07:20:16.156550Z",
     "iopub.status.idle": "2021-08-11T07:20:16.160488Z",
     "shell.execute_reply": "2021-08-11T07:20:16.160064Z",
     "shell.execute_reply.started": "2021-06-21T09:35:38.093838Z"
    },
    "papermill": {
     "duration": 0.022965,
     "end_time": "2021-08-11T07:20:16.160600",
     "exception": false,
     "start_time": "2021-08-11T07:20:16.137635",
     "status": "completed"
    },
    "tags": []
   },
   "outputs": [],
   "source": [
    "Crema = \"./audio_files/AudioWAV\""
   ]
  },
  {
   "cell_type": "code",
   "execution_count": 9,
   "id": "distributed-socket",
   "metadata": {
    "execution": {
     "iopub.execute_input": "2021-08-11T07:20:16.198612Z",
     "iopub.status.busy": "2021-08-11T07:20:16.198067Z",
     "iopub.status.idle": "2021-08-11T07:20:16.491849Z",
     "shell.execute_reply": "2021-08-11T07:20:16.492267Z",
     "shell.execute_reply.started": "2021-06-21T09:36:24.417703Z"
    },
    "papermill": {
     "duration": 0.316723,
     "end_time": "2021-08-11T07:20:16.492410",
     "exception": false,
     "start_time": "2021-08-11T07:20:16.175687",
     "status": "completed"
    },
    "tags": []
   },
   "outputs": [
    {
     "data": {
      "text/html": [
       "<div>\n",
       "<style scoped>\n",
       "    .dataframe tbody tr th:only-of-type {\n",
       "        vertical-align: middle;\n",
       "    }\n",
       "\n",
       "    .dataframe tbody tr th {\n",
       "        vertical-align: top;\n",
       "    }\n",
       "\n",
       "    .dataframe thead th {\n",
       "        text-align: right;\n",
       "    }\n",
       "</style>\n",
       "<table border=\"1\" class=\"dataframe\">\n",
       "  <thead>\n",
       "    <tr style=\"text-align: right;\">\n",
       "      <th></th>\n",
       "      <th>Emotions</th>\n",
       "      <th>Path</th>\n",
       "    </tr>\n",
       "  </thead>\n",
       "  <tbody>\n",
       "    <tr>\n",
       "      <th>0</th>\n",
       "      <td>disgust</td>\n",
       "      <td>./audio_files/AudioWAV1001_DFA_DIS_XX.wav</td>\n",
       "    </tr>\n",
       "    <tr>\n",
       "      <th>1</th>\n",
       "      <td>fear</td>\n",
       "      <td>./audio_files/AudioWAV1001_DFA_FEA_XX.wav</td>\n",
       "    </tr>\n",
       "    <tr>\n",
       "      <th>2</th>\n",
       "      <td>happy</td>\n",
       "      <td>./audio_files/AudioWAV1001_DFA_HAP_XX.wav</td>\n",
       "    </tr>\n",
       "    <tr>\n",
       "      <th>3</th>\n",
       "      <td>neutral</td>\n",
       "      <td>./audio_files/AudioWAV1001_DFA_NEU_XX.wav</td>\n",
       "    </tr>\n",
       "    <tr>\n",
       "      <th>4</th>\n",
       "      <td>sad</td>\n",
       "      <td>./audio_files/AudioWAV1001_DFA_SAD_XX.wav</td>\n",
       "    </tr>\n",
       "  </tbody>\n",
       "</table>\n",
       "</div>"
      ],
      "text/plain": [
       "  Emotions                                       Path\n",
       "0  disgust  ./audio_files/AudioWAV1001_DFA_DIS_XX.wav\n",
       "1     fear  ./audio_files/AudioWAV1001_DFA_FEA_XX.wav\n",
       "2    happy  ./audio_files/AudioWAV1001_DFA_HAP_XX.wav\n",
       "3  neutral  ./audio_files/AudioWAV1001_DFA_NEU_XX.wav\n",
       "4      sad  ./audio_files/AudioWAV1001_DFA_SAD_XX.wav"
      ]
     },
     "execution_count": 9,
     "metadata": {},
     "output_type": "execute_result"
    }
   ],
   "source": [
    "import os\n",
    "import pandas as pd\n",
    "\n",
    "crema_directory_list = os.listdir(Crema)\n",
    "\n",
    "file_emotion = []\n",
    "file_path = []\n",
    "\n",
    "for file in crema_directory_list:\n",
    "    # storing file paths\n",
    "    file_path.append(Crema + file)\n",
    "    # storing file emotions\n",
    "    part=file.split('_')\n",
    "    if part[2] == 'SAD':\n",
    "        file_emotion.append('sad')\n",
    "    elif part[2] == 'ANG':\n",
    "        file_emotion.append('angry')\n",
    "    elif part[2] == 'DIS':\n",
    "        file_emotion.append('disgust')\n",
    "    elif part[2] == 'FEA':\n",
    "        file_emotion.append('fear')\n",
    "    elif part[2] == 'HAP':\n",
    "        file_emotion.append('happy')\n",
    "    elif part[2] == 'NEU':\n",
    "        file_emotion.append('neutral')\n",
    "    else:\n",
    "        file_emotion.append('Unknown')\n",
    "        \n",
    "# dataframe for emotion of files\n",
    "emotion_df = pd.DataFrame(file_emotion, columns=['Emotions'])\n",
    "\n",
    "# dataframe for path of files.\n",
    "path_df = pd.DataFrame(file_path, columns=['Path'])\n",
    "Crema_df = pd.concat([emotion_df, path_df], axis=1)\n",
    "Crema_df.head()"
   ]
  },
  {
   "cell_type": "code",
   "execution_count": 10,
   "id": "annual-climb",
   "metadata": {
    "execution": {
     "iopub.execute_input": "2021-08-11T07:20:16.542514Z",
     "iopub.status.busy": "2021-08-11T07:20:16.541842Z",
     "iopub.status.idle": "2021-08-11T07:20:16.682448Z",
     "shell.execute_reply": "2021-08-11T07:20:16.682857Z",
     "shell.execute_reply.started": "2021-06-21T09:36:25.200452Z"
    },
    "papermill": {
     "duration": 0.174507,
     "end_time": "2021-08-11T07:20:16.683000",
     "exception": false,
     "start_time": "2021-08-11T07:20:16.508493",
     "status": "completed"
    },
    "tags": []
   },
   "outputs": [
    {
     "ename": "NameError",
     "evalue": "name 'plt' is not defined",
     "output_type": "error",
     "traceback": [
      "\u001b[1;31m---------------------------------------------------------------------------\u001b[0m",
      "\u001b[1;31mNameError\u001b[0m                                 Traceback (most recent call last)",
      "\u001b[1;32m~\\AppData\\Local\\Temp/ipykernel_7736/540050272.py\u001b[0m in \u001b[0;36m<module>\u001b[1;34m\u001b[0m\n\u001b[1;32m----> 1\u001b[1;33m \u001b[0mplt\u001b[0m\u001b[1;33m.\u001b[0m\u001b[0mtitle\u001b[0m\u001b[1;33m(\u001b[0m\u001b[1;34m'Count of Emotions'\u001b[0m\u001b[1;33m,\u001b[0m \u001b[0msize\u001b[0m\u001b[1;33m=\u001b[0m\u001b[1;36m16\u001b[0m\u001b[1;33m)\u001b[0m\u001b[1;33m\u001b[0m\u001b[1;33m\u001b[0m\u001b[0m\n\u001b[0m\u001b[0;32m      2\u001b[0m \u001b[0msns\u001b[0m\u001b[1;33m.\u001b[0m\u001b[0mcountplot\u001b[0m\u001b[1;33m(\u001b[0m\u001b[0mCrema_df\u001b[0m\u001b[1;33m.\u001b[0m\u001b[0mEmotions\u001b[0m\u001b[1;33m)\u001b[0m\u001b[1;33m\u001b[0m\u001b[1;33m\u001b[0m\u001b[0m\n\u001b[0;32m      3\u001b[0m \u001b[0mplt\u001b[0m\u001b[1;33m.\u001b[0m\u001b[0mylabel\u001b[0m\u001b[1;33m(\u001b[0m\u001b[1;34m'Count'\u001b[0m\u001b[1;33m,\u001b[0m \u001b[0msize\u001b[0m\u001b[1;33m=\u001b[0m\u001b[1;36m12\u001b[0m\u001b[1;33m)\u001b[0m\u001b[1;33m\u001b[0m\u001b[1;33m\u001b[0m\u001b[0m\n\u001b[0;32m      4\u001b[0m \u001b[0mplt\u001b[0m\u001b[1;33m.\u001b[0m\u001b[0mxlabel\u001b[0m\u001b[1;33m(\u001b[0m\u001b[1;34m'Emotions'\u001b[0m\u001b[1;33m,\u001b[0m \u001b[0msize\u001b[0m\u001b[1;33m=\u001b[0m\u001b[1;36m12\u001b[0m\u001b[1;33m)\u001b[0m\u001b[1;33m\u001b[0m\u001b[1;33m\u001b[0m\u001b[0m\n\u001b[0;32m      5\u001b[0m \u001b[0msns\u001b[0m\u001b[1;33m.\u001b[0m\u001b[0mdespine\u001b[0m\u001b[1;33m(\u001b[0m\u001b[0mtop\u001b[0m\u001b[1;33m=\u001b[0m\u001b[1;32mTrue\u001b[0m\u001b[1;33m,\u001b[0m \u001b[0mright\u001b[0m\u001b[1;33m=\u001b[0m\u001b[1;32mTrue\u001b[0m\u001b[1;33m,\u001b[0m \u001b[0mleft\u001b[0m\u001b[1;33m=\u001b[0m\u001b[1;32mFalse\u001b[0m\u001b[1;33m,\u001b[0m \u001b[0mbottom\u001b[0m\u001b[1;33m=\u001b[0m\u001b[1;32mFalse\u001b[0m\u001b[1;33m)\u001b[0m\u001b[1;33m\u001b[0m\u001b[1;33m\u001b[0m\u001b[0m\n",
      "\u001b[1;31mNameError\u001b[0m: name 'plt' is not defined"
     ]
    }
   ],
   "source": [
    "plt.title('Count of Emotions', size=16)\n",
    "sns.countplot(Crema_df.Emotions)\n",
    "plt.ylabel('Count', size=12)\n",
    "plt.xlabel('Emotions', size=12)\n",
    "sns.despine(top=True, right=True, left=False, bottom=False)\n",
    "plt.show()"
   ]
  },
  {
   "cell_type": "markdown",
   "id": "careful-mason",
   "metadata": {
    "papermill": {
     "duration": 0.015694,
     "end_time": "2021-08-11T07:20:16.715045",
     "exception": false,
     "start_time": "2021-08-11T07:20:16.699351",
     "status": "completed"
    },
    "tags": []
   },
   "source": [
    "# Visualization"
   ]
  },
  {
   "cell_type": "code",
   "execution_count": null,
   "id": "innovative-height",
   "metadata": {
    "execution": {
     "iopub.execute_input": "2021-08-11T07:20:16.753470Z",
     "iopub.status.busy": "2021-08-11T07:20:16.752779Z",
     "iopub.status.idle": "2021-08-11T07:20:16.755452Z",
     "shell.execute_reply": "2021-08-11T07:20:16.755037Z",
     "shell.execute_reply.started": "2021-06-21T09:36:27.274257Z"
    },
    "papermill": {
     "duration": 0.024397,
     "end_time": "2021-08-11T07:20:16.755560",
     "exception": false,
     "start_time": "2021-08-11T07:20:16.731163",
     "status": "completed"
    },
    "tags": []
   },
   "outputs": [],
   "source": [
    "def create_waveplot(data, sr, e):\n",
    "    plt.figure(figsize=(10, 3))\n",
    "    plt.title('Waveplot for {} emotion'.format(e), size=15)\n",
    "    librosa.display.waveplot(data, sr=sr)\n",
    "    plt.show()\n",
    "\n",
    "def create_spectrogram(data, sr, e):\n",
    "    X = librosa.stft(data)\n",
    "    Xdb = librosa.amplitude_to_db(abs(X))\n",
    "    plt.figure(figsize=(12, 3))\n",
    "    plt.title('Spectrogram for {} emotion'.format(e), size=15)\n",
    "    librosa.display.specshow(Xdb, sr=sr, x_axis='time', y_axis='hz')   \n",
    "    plt.colorbar()"
   ]
  },
  {
   "cell_type": "code",
   "execution_count": null,
   "id": "breathing-sally",
   "metadata": {
    "execution": {
     "iopub.execute_input": "2021-08-11T07:20:16.795053Z",
     "iopub.status.busy": "2021-08-11T07:20:16.794382Z",
     "iopub.status.idle": "2021-08-11T07:20:17.764833Z",
     "shell.execute_reply": "2021-08-11T07:20:17.765260Z",
     "shell.execute_reply.started": "2021-06-21T09:36:28.243518Z"
    },
    "papermill": {
     "duration": 0.993849,
     "end_time": "2021-08-11T07:20:17.765405",
     "exception": false,
     "start_time": "2021-08-11T07:20:16.771556",
     "status": "completed"
    },
    "tags": []
   },
   "outputs": [],
   "source": [
    "emotion='angry'\n",
    "path = np.array(Crema_df.Path[Crema_df.Emotions==emotion])[0]\n",
    "data, sampling_rate = librosa.load(path)\n",
    "create_waveplot(data, sampling_rate, emotion)\n",
    "create_spectrogram(data, sampling_rate, emotion)\n",
    "Audio(path)"
   ]
  },
  {
   "cell_type": "markdown",
   "id": "coastal-council",
   "metadata": {
    "papermill": {
     "duration": 0.021308,
     "end_time": "2021-08-11T07:20:17.808753",
     "exception": false,
     "start_time": "2021-08-11T07:20:17.787445",
     "status": "completed"
    },
    "tags": []
   },
   "source": [
    "# MFCC Extraction"
   ]
  },
  {
   "cell_type": "code",
   "execution_count": null,
   "id": "shared-fossil",
   "metadata": {
    "execution": {
     "iopub.execute_input": "2021-08-11T07:20:17.857686Z",
     "iopub.status.busy": "2021-08-11T07:20:17.856777Z",
     "iopub.status.idle": "2021-08-11T07:20:17.867146Z",
     "shell.execute_reply": "2021-08-11T07:20:17.867577Z",
     "shell.execute_reply.started": "2021-06-21T09:35:40.689519Z"
    },
    "papermill": {
     "duration": 0.036854,
     "end_time": "2021-08-11T07:20:17.867716",
     "exception": false,
     "start_time": "2021-08-11T07:20:17.830862",
     "status": "completed"
    },
    "tags": []
   },
   "outputs": [],
   "source": [
    "labels = {'disgust':0,'happy':1,'sad':2,'neutral':3,'fear':4,'angry':5}\n",
    "Crema_df.replace({'Emotions':labels},inplace=True)"
   ]
  },
  {
   "cell_type": "code",
   "execution_count": null,
   "id": "entitled-concentration",
   "metadata": {
    "execution": {
     "iopub.execute_input": "2021-08-11T07:20:17.917849Z",
     "iopub.status.busy": "2021-08-11T07:20:17.917232Z",
     "iopub.status.idle": "2021-08-11T07:34:58.225463Z",
     "shell.execute_reply": "2021-08-11T07:34:58.226645Z",
     "shell.execute_reply.started": "2021-06-21T08:44:45.743254Z"
    },
    "papermill": {
     "duration": 880.337503,
     "end_time": "2021-08-11T07:34:58.226915",
     "exception": false,
     "start_time": "2021-08-11T07:20:17.889412",
     "status": "completed"
    },
    "tags": []
   },
   "outputs": [],
   "source": [
    "num_mfcc=13\n",
    "n_fft=2048\n",
    "hop_length=512\n",
    "SAMPLE_RATE = 22050\n",
    "data = {\n",
    "        \"labels\": [],\n",
    "        \"mfcc\": []\n",
    "    }\n",
    "for i in range(7442):\n",
    "    data['labels'].append(Crema_df.iloc[i,0])\n",
    "    signal, sample_rate = librosa.load(Crema_df.iloc[i,1], sr=SAMPLE_RATE)\n",
    "    mfcc = librosa.feature.mfcc(signal, sample_rate, n_mfcc=13, n_fft=2048, hop_length=512)\n",
    "    mfcc = mfcc.T\n",
    "    data[\"mfcc\"].append(np.asarray(mfcc))\n",
    "    if i%500==0:\n",
    "        print(i)"
   ]
  },
  {
   "cell_type": "markdown",
   "id": "exceptional-conversation",
   "metadata": {
    "papermill": {
     "duration": 0.045148,
     "end_time": "2021-08-11T07:34:58.318682",
     "exception": false,
     "start_time": "2021-08-11T07:34:58.273534",
     "status": "completed"
    },
    "tags": []
   },
   "source": [
    "# Padding MFCC to make them of equal length"
   ]
  },
  {
   "cell_type": "code",
   "execution_count": 9,
   "id": "continuing-armenia",
   "metadata": {
    "execution": {
     "iopub.execute_input": "2021-08-11T07:34:58.392719Z",
     "iopub.status.busy": "2021-08-11T07:34:58.391878Z",
     "iopub.status.idle": "2021-08-11T07:34:58.394441Z",
     "shell.execute_reply": "2021-08-11T07:34:58.394011Z",
     "shell.execute_reply.started": "2021-06-21T09:12:20.176342Z"
    },
    "papermill": {
     "duration": 0.034542,
     "end_time": "2021-08-11T07:34:58.394563",
     "exception": false,
     "start_time": "2021-08-11T07:34:58.360021",
     "status": "completed"
    },
    "tags": []
   },
   "outputs": [],
   "source": [
    "X = np.asarray(data['mfcc'])\n",
    "y = np.asarray(data[\"labels\"])"
   ]
  },
  {
   "cell_type": "code",
   "execution_count": 10,
   "id": "expired-furniture",
   "metadata": {
    "execution": {
     "iopub.execute_input": "2021-08-11T07:34:58.454556Z",
     "iopub.status.busy": "2021-08-11T07:34:58.453419Z",
     "iopub.status.idle": "2021-08-11T07:34:58.533700Z",
     "shell.execute_reply": "2021-08-11T07:34:58.534114Z",
     "shell.execute_reply.started": "2021-06-21T09:12:39.993556Z"
    },
    "papermill": {
     "duration": 0.113695,
     "end_time": "2021-08-11T07:34:58.534256",
     "exception": false,
     "start_time": "2021-08-11T07:34:58.420561",
     "status": "completed"
    },
    "tags": []
   },
   "outputs": [
    {
     "data": {
      "text/plain": [
       "(7442, 216, 13)"
      ]
     },
     "execution_count": 10,
     "metadata": {},
     "output_type": "execute_result"
    }
   ],
   "source": [
    "X = tf.keras.preprocessing.sequence.pad_sequences(X)\n",
    "X.shape"
   ]
  },
  {
   "cell_type": "code",
   "execution_count": 11,
   "id": "essential-education",
   "metadata": {
    "execution": {
     "iopub.execute_input": "2021-08-11T07:34:58.592452Z",
     "iopub.status.busy": "2021-08-11T07:34:58.591310Z",
     "iopub.status.idle": "2021-08-11T07:34:58.648263Z",
     "shell.execute_reply": "2021-08-11T07:34:58.647787Z",
     "shell.execute_reply.started": "2021-06-21T09:12:52.346727Z"
    },
    "papermill": {
     "duration": 0.087404,
     "end_time": "2021-08-11T07:34:58.648391",
     "exception": false,
     "start_time": "2021-08-11T07:34:58.560987",
     "status": "completed"
    },
    "tags": []
   },
   "outputs": [],
   "source": [
    "X_train, X_test, y_train, y_test = train_test_split(X, y, test_size=0.1)\n",
    "X_train, X_validation, y_train, y_validation = train_test_split(X_train, y_train, test_size=0.2)"
   ]
  },
  {
   "cell_type": "code",
   "execution_count": 12,
   "id": "bibliographic-number",
   "metadata": {
    "execution": {
     "iopub.execute_input": "2021-08-11T07:34:58.706994Z",
     "iopub.status.busy": "2021-08-11T07:34:58.705746Z",
     "iopub.status.idle": "2021-08-11T07:34:58.709336Z",
     "shell.execute_reply": "2021-08-11T07:34:58.709935Z",
     "shell.execute_reply.started": "2021-06-21T09:12:53.639297Z"
    },
    "papermill": {
     "duration": 0.035993,
     "end_time": "2021-08-11T07:34:58.710099",
     "exception": false,
     "start_time": "2021-08-11T07:34:58.674106",
     "status": "completed"
    },
    "tags": []
   },
   "outputs": [
    {
     "name": "stdout",
     "output_type": "stream",
     "text": [
      "(5357, 216, 13) (5357,) (1340, 216, 13) (1340,) (745, 216, 13) (745,)\n"
     ]
    }
   ],
   "source": [
    "print(X_train.shape,y_train.shape,X_validation.shape,y_validation.shape,X_test.shape,y_test.shape)"
   ]
  },
  {
   "cell_type": "markdown",
   "id": "sonic-fellowship",
   "metadata": {
    "papermill": {
     "duration": 0.027647,
     "end_time": "2021-08-11T07:34:58.765879",
     "exception": false,
     "start_time": "2021-08-11T07:34:58.738232",
     "status": "completed"
    },
    "tags": []
   },
   "source": [
    "# Model"
   ]
  },
  {
   "cell_type": "code",
   "execution_count": 13,
   "id": "sexual-moore",
   "metadata": {
    "execution": {
     "iopub.execute_input": "2021-08-11T07:34:58.826763Z",
     "iopub.status.busy": "2021-08-11T07:34:58.825224Z",
     "iopub.status.idle": "2021-08-11T07:34:58.827484Z",
     "shell.execute_reply": "2021-08-11T07:34:58.827889Z",
     "shell.execute_reply.started": "2021-06-21T09:31:00.855572Z"
    },
    "papermill": {
     "duration": 0.034818,
     "end_time": "2021-08-11T07:34:58.828020",
     "exception": false,
     "start_time": "2021-08-11T07:34:58.793202",
     "status": "completed"
    },
    "tags": []
   },
   "outputs": [],
   "source": [
    "def build_model(input_shape):\n",
    "    model = tf.keras.Sequential()\n",
    "\n",
    "    model.add(LSTM(128, input_shape=input_shape, return_sequences=True))\n",
    "    model.add(LSTM(64))\n",
    "    \n",
    "    model.add(Dense(64, activation='relu'))\n",
    "    model.add(Dropout(0.3))\n",
    "\n",
    "    model.add(Dense(6, activation='softmax'))\n",
    "\n",
    "    return model"
   ]
  },
  {
   "cell_type": "code",
   "execution_count": 14,
   "id": "cooked-howard",
   "metadata": {
    "execution": {
     "iopub.execute_input": "2021-08-11T07:34:58.885456Z",
     "iopub.status.busy": "2021-08-11T07:34:58.884920Z",
     "iopub.status.idle": "2021-08-11T07:35:01.517183Z",
     "shell.execute_reply": "2021-08-11T07:35:01.517751Z",
     "shell.execute_reply.started": "2021-06-21T09:31:02.996423Z"
    },
    "papermill": {
     "duration": 2.663376,
     "end_time": "2021-08-11T07:35:01.517946",
     "exception": false,
     "start_time": "2021-08-11T07:34:58.854570",
     "status": "completed"
    },
    "tags": []
   },
   "outputs": [
    {
     "name": "stdout",
     "output_type": "stream",
     "text": [
      "Model: \"sequential\"\n",
      "_________________________________________________________________\n",
      "Layer (type)                 Output Shape              Param #   \n",
      "=================================================================\n",
      "lstm (LSTM)                  (None, None, 128)         72704     \n",
      "_________________________________________________________________\n",
      "lstm_1 (LSTM)                (None, 64)                49408     \n",
      "_________________________________________________________________\n",
      "dense (Dense)                (None, 64)                4160      \n",
      "_________________________________________________________________\n",
      "dropout (Dropout)            (None, 64)                0         \n",
      "_________________________________________________________________\n",
      "dense_1 (Dense)              (None, 6)                 390       \n",
      "=================================================================\n",
      "Total params: 126,662\n",
      "Trainable params: 126,662\n",
      "Non-trainable params: 0\n",
      "_________________________________________________________________\n"
     ]
    }
   ],
   "source": [
    "# create network\n",
    "input_shape = (None,13)\n",
    "model = build_model(input_shape)\n",
    "\n",
    "# compile model\n",
    "optimiser = tf.keras.optimizers.Adam(learning_rate=0.001)\n",
    "model.compile(optimizer=optimiser,\n",
    "                  loss='sparse_categorical_crossentropy',\n",
    "                  metrics=['accuracy'])\n",
    "\n",
    "model.summary()"
   ]
  },
  {
   "cell_type": "markdown",
   "id": "median-phoenix",
   "metadata": {
    "papermill": {
     "duration": 0.02593,
     "end_time": "2021-08-11T07:35:01.570540",
     "exception": false,
     "start_time": "2021-08-11T07:35:01.544610",
     "status": "completed"
    },
    "tags": []
   },
   "source": [
    "# Training"
   ]
  },
  {
   "cell_type": "code",
   "execution_count": 15,
   "id": "utility-chicago",
   "metadata": {
    "execution": {
     "iopub.execute_input": "2021-08-11T07:35:01.627260Z",
     "iopub.status.busy": "2021-08-11T07:35:01.626586Z",
     "iopub.status.idle": "2021-08-11T07:37:01.869990Z",
     "shell.execute_reply": "2021-08-11T07:37:01.869339Z",
     "shell.execute_reply.started": "2021-06-21T09:31:04.66912Z"
    },
    "papermill": {
     "duration": 120.27337,
     "end_time": "2021-08-11T07:37:01.870175",
     "exception": false,
     "start_time": "2021-08-11T07:35:01.596805",
     "status": "completed"
    },
    "scrolled": true,
    "tags": []
   },
   "outputs": [
    {
     "name": "stdout",
     "output_type": "stream",
     "text": [
      "Epoch 1/30\n",
      "168/168 [==============================] - 9s 29ms/step - loss: 1.6471 - accuracy: 0.2998 - val_loss: 1.4173 - val_accuracy: 0.4373\n",
      "Epoch 2/30\n",
      "168/168 [==============================] - 4s 23ms/step - loss: 1.5058 - accuracy: 0.3737 - val_loss: 1.4070 - val_accuracy: 0.4388\n",
      "Epoch 3/30\n",
      "168/168 [==============================] - 4s 24ms/step - loss: 1.4647 - accuracy: 0.4006 - val_loss: 1.3801 - val_accuracy: 0.4515\n",
      "Epoch 4/30\n",
      "168/168 [==============================] - 4s 22ms/step - loss: 1.4572 - accuracy: 0.4115 - val_loss: 1.3795 - val_accuracy: 0.4507\n",
      "Epoch 5/30\n",
      "168/168 [==============================] - 4s 23ms/step - loss: 1.4235 - accuracy: 0.4205 - val_loss: 1.3509 - val_accuracy: 0.4485\n",
      "Epoch 6/30\n",
      "168/168 [==============================] - 4s 22ms/step - loss: 1.3981 - accuracy: 0.4334 - val_loss: 1.3364 - val_accuracy: 0.4582\n",
      "Epoch 7/30\n",
      "168/168 [==============================] - 4s 22ms/step - loss: 1.3942 - accuracy: 0.4391 - val_loss: 1.3362 - val_accuracy: 0.4642\n",
      "Epoch 8/30\n",
      "168/168 [==============================] - 4s 23ms/step - loss: 1.3706 - accuracy: 0.4609 - val_loss: 1.2877 - val_accuracy: 0.4761\n",
      "Epoch 9/30\n",
      "168/168 [==============================] - 4s 22ms/step - loss: 1.3394 - accuracy: 0.4601 - val_loss: 1.3043 - val_accuracy: 0.4664\n",
      "Epoch 10/30\n",
      "168/168 [==============================] - 4s 22ms/step - loss: 1.3195 - accuracy: 0.4828 - val_loss: 1.2969 - val_accuracy: 0.4679\n",
      "Epoch 11/30\n",
      "168/168 [==============================] - 4s 23ms/step - loss: 1.3135 - accuracy: 0.4834 - val_loss: 1.2508 - val_accuracy: 0.5090\n",
      "Epoch 12/30\n",
      "168/168 [==============================] - 4s 23ms/step - loss: 1.2816 - accuracy: 0.5153 - val_loss: 1.2401 - val_accuracy: 0.5164\n",
      "Epoch 13/30\n",
      "168/168 [==============================] - 4s 22ms/step - loss: 1.2723 - accuracy: 0.5016 - val_loss: 1.2301 - val_accuracy: 0.5201\n",
      "Epoch 14/30\n",
      "168/168 [==============================] - 4s 23ms/step - loss: 1.2353 - accuracy: 0.5257 - val_loss: 1.2099 - val_accuracy: 0.5194\n",
      "Epoch 15/30\n",
      "168/168 [==============================] - 4s 22ms/step - loss: 1.2186 - accuracy: 0.5198 - val_loss: 1.1667 - val_accuracy: 0.5530\n",
      "Epoch 16/30\n",
      "168/168 [==============================] - 4s 23ms/step - loss: 1.1892 - accuracy: 0.5366 - val_loss: 1.1892 - val_accuracy: 0.5381\n",
      "Epoch 17/30\n",
      "168/168 [==============================] - 4s 23ms/step - loss: 1.1847 - accuracy: 0.5515 - val_loss: 1.1699 - val_accuracy: 0.5254\n",
      "Epoch 18/30\n",
      "168/168 [==============================] - 4s 22ms/step - loss: 1.1964 - accuracy: 0.5474 - val_loss: 1.1640 - val_accuracy: 0.5396\n",
      "Epoch 19/30\n",
      "168/168 [==============================] - 4s 23ms/step - loss: 1.1418 - accuracy: 0.5676 - val_loss: 1.1774 - val_accuracy: 0.5515\n",
      "Epoch 20/30\n",
      "168/168 [==============================] - 4s 24ms/step - loss: 1.0904 - accuracy: 0.5906 - val_loss: 1.1691 - val_accuracy: 0.5582\n",
      "Epoch 21/30\n",
      "168/168 [==============================] - 4s 22ms/step - loss: 1.0924 - accuracy: 0.5863 - val_loss: 1.1475 - val_accuracy: 0.5612\n",
      "Epoch 22/30\n",
      "168/168 [==============================] - 4s 23ms/step - loss: 1.0912 - accuracy: 0.5859 - val_loss: 1.1340 - val_accuracy: 0.5627\n",
      "Epoch 23/30\n",
      "168/168 [==============================] - 4s 23ms/step - loss: 1.0430 - accuracy: 0.6085 - val_loss: 1.1479 - val_accuracy: 0.5493\n",
      "Epoch 24/30\n",
      "168/168 [==============================] - 4s 22ms/step - loss: 1.0264 - accuracy: 0.6117 - val_loss: 1.0858 - val_accuracy: 0.5851\n",
      "Epoch 25/30\n",
      "168/168 [==============================] - 4s 23ms/step - loss: 1.0153 - accuracy: 0.6116 - val_loss: 1.0996 - val_accuracy: 0.5687\n",
      "Epoch 26/30\n",
      "168/168 [==============================] - 4s 22ms/step - loss: 0.9915 - accuracy: 0.6299 - val_loss: 1.1131 - val_accuracy: 0.5821\n",
      "Epoch 27/30\n",
      "168/168 [==============================] - 4s 22ms/step - loss: 0.9779 - accuracy: 0.6221 - val_loss: 1.1090 - val_accuracy: 0.5627\n",
      "Epoch 28/30\n",
      "168/168 [==============================] - 4s 23ms/step - loss: 0.9417 - accuracy: 0.6419 - val_loss: 1.0965 - val_accuracy: 0.5858\n",
      "Epoch 29/30\n",
      "168/168 [==============================] - 4s 24ms/step - loss: 0.9348 - accuracy: 0.6440 - val_loss: 1.1353 - val_accuracy: 0.5709\n",
      "Epoch 30/30\n",
      "168/168 [==============================] - 4s 23ms/step - loss: 0.9239 - accuracy: 0.6497 - val_loss: 1.1182 - val_accuracy: 0.5903\n"
     ]
    }
   ],
   "source": [
    "history = model.fit(X_train, y_train, validation_data=(X_validation, y_validation), batch_size=32, epochs=30)"
   ]
  },
  {
   "cell_type": "markdown",
   "id": "rational-uzbekistan",
   "metadata": {
    "papermill": {
     "duration": 0.505467,
     "end_time": "2021-08-11T07:37:02.901199",
     "exception": false,
     "start_time": "2021-08-11T07:37:02.395732",
     "status": "completed"
    },
    "tags": []
   },
   "source": [
    "# Evaluation"
   ]
  },
  {
   "cell_type": "code",
   "execution_count": 16,
   "id": "interesting-mixer",
   "metadata": {
    "execution": {
     "iopub.execute_input": "2021-08-11T07:37:04.182042Z",
     "iopub.status.busy": "2021-08-11T07:37:04.181089Z",
     "iopub.status.idle": "2021-08-11T07:37:04.422281Z",
     "shell.execute_reply": "2021-08-11T07:37:04.421801Z",
     "shell.execute_reply.started": "2021-06-21T09:33:27.621832Z"
    },
    "papermill": {
     "duration": 0.754463,
     "end_time": "2021-08-11T07:37:04.422437",
     "exception": false,
     "start_time": "2021-08-11T07:37:03.667974",
     "status": "completed"
    },
    "tags": []
   },
   "outputs": [
    {
     "name": "stdout",
     "output_type": "stream",
     "text": [
      "Test Accuracy:  0.563758373260498\n"
     ]
    }
   ],
   "source": [
    "test_loss, test_acc = model.evaluate(X_test, y_test, verbose=0)\n",
    "print(\"Test Accuracy: \",test_acc)"
   ]
  },
  {
   "cell_type": "code",
   "execution_count": 17,
   "id": "mathematical-ordinance",
   "metadata": {
    "execution": {
     "iopub.execute_input": "2021-08-11T07:37:05.501678Z",
     "iopub.status.busy": "2021-08-11T07:37:05.500716Z",
     "iopub.status.idle": "2021-08-11T07:37:05.534204Z",
     "shell.execute_reply": "2021-08-11T07:37:05.533768Z"
    },
    "papermill": {
     "duration": 0.603561,
     "end_time": "2021-08-11T07:37:05.534325",
     "exception": false,
     "start_time": "2021-08-11T07:37:04.930764",
     "status": "completed"
    },
    "tags": []
   },
   "outputs": [],
   "source": [
    "model.save('Speech-Emotion-Recognition-Model.h5')"
   ]
  }
 ],
 "metadata": {
  "kernelspec": {
   "display_name": "Python 3 (ipykernel)",
   "language": "python",
   "name": "python3"
  },
  "language_info": {
   "codemirror_mode": {
    "name": "ipython",
    "version": 3
   },
   "file_extension": ".py",
   "mimetype": "text/x-python",
   "name": "python",
   "nbconvert_exporter": "python",
   "pygments_lexer": "ipython3",
   "version": "3.9.7"
  },
  "papermill": {
   "default_parameters": {},
   "duration": 1027.117369,
   "end_time": "2021-08-11T07:37:09.186557",
   "environment_variables": {},
   "exception": null,
   "input_path": "__notebook__.ipynb",
   "output_path": "__notebook__.ipynb",
   "parameters": {},
   "start_time": "2021-08-11T07:20:02.069188",
   "version": "2.3.3"
  }
 },
 "nbformat": 4,
 "nbformat_minor": 5
}
